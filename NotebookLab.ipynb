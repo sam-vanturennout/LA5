{
 "cells": [
  {
   "cell_type": "markdown",
   "id": "bbac407c",
   "metadata": {},
   "source": [
    "# LA5 Notebook Lab\n",
    "\n",
    "**Name:** Sam Vanturennout\n",
    "\n",
    "## Task 1\n",
    "$log_{2}(a \\times b) = log_{2}(a) + log_2(b)$\n",
    "\n",
    "$log_{2}(a / b) = log_{2}(a) - log_{2}(b)$\n",
    "\n",
    "$log_{2}(a^{n}) = n \\times log_{2}(a)$\n",
    "\n",
    "$log_{2}(1 / a) = -log_{2}(a)$\n",
    "\n",
    "$\\sum_{i=1}^{i=m} \\sum_{j=1}^{j=n} a_{ij} \\;=\\; \\sum_{j=1}^{j=n} \\sum_{i=1}^{i=m} a_{ij}$\n",
    "\n",
    "[Bramer Amazon Link](https://www.amazon.com/Principles-Mining-Undergraduate-Computer-Science/dp/1447174925/ref=sr_1_1?crid=26PRVS3VC12G8&dib=eyJ2IjoiMSJ9.F_7l6ZCCHdV-wdvWPqSSY6Bim4yhpZjMku6ICJd0oxCcmIpQ6aRHXx-pP8n5QoyA-V110JKgE9PwpMz5_ABE4XfklHJlEQImpjh_9Nn_Kc4.cemNZzYmMNU1nWby4sTbeVM_wqsEOiusAuiq649u5Wo&dib_tag=se&keywords=principles+of+data+mining+max+bramer&qid=1758755040&sprefix=bramer++data%2Caps%2C221&sr=8-1)\n",
    "\n",
    "## Task 2\n",
    "\n",
    "$\\text{Average} = \\frac{x_1 + x_2 + x_n}{n}$\n"
   ]
  },
  {
   "cell_type": "code",
   "execution_count": 7,
   "id": "7aff4891",
   "metadata": {},
   "outputs": [
    {
     "name": "stdout",
     "output_type": "stream",
     "text": [
      "Mean of List1:  0.495\n",
      "Mean of List2:  0.496\n"
     ]
    }
   ],
   "source": [
    "import random\n",
    "\n",
    "def mean(numbers):\n",
    "    return sum(numbers) / len(numbers)\n",
    "\n",
    "list1 = [random.random() for _ in range(100)]\n",
    "list2 = [random.random() for _ in range(100)]\n",
    "\n",
    "print(\"Mean of List1: \", round(mean(list1), 3))\n",
    "print(\"Mean of List2: \", round(mean(list2), 3))\n",
    "\n"
   ]
  },
  {
   "cell_type": "markdown",
   "id": "575cd9e7",
   "metadata": {},
   "source": [
    "## Task 3\n",
    "\n",
    "![alt text](https://i.pinimg.com/originals/a3/e0/99/a3e099bafddd61abfffe1b3202796c58.jpg)\n",
    "\n",
    "I thought this was funny because it deals with all of the different stereortypes people have about data science."
   ]
  }
 ],
 "metadata": {
  "kernelspec": {
   "display_name": "base",
   "language": "python",
   "name": "python3"
  },
  "language_info": {
   "codemirror_mode": {
    "name": "ipython",
    "version": 3
   },
   "file_extension": ".py",
   "mimetype": "text/x-python",
   "name": "python",
   "nbconvert_exporter": "python",
   "pygments_lexer": "ipython3",
   "version": "3.12.4"
  }
 },
 "nbformat": 4,
 "nbformat_minor": 5
}
